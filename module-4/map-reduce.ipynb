{
 "cells": [
  {
   "cell_type": "markdown",
   "id": "4cd4f701",
   "metadata": {},
   "source": [
    "[![Open in Colab](https://colab.research.google.com/assets/colab-badge.svg)](https://colab.research.google.com/github/langchain-ai/langchain-academy/blob/main/module-4/map-reduce.ipynb) [![Open in LangChain Academy](https://cdn.prod.website-files.com/65b8cd72835ceeacd4449a53/66e9eba12c7b7688aa3dbb5e_LCA-badge-green.svg)](https://academy.langchain.com/courses/take/intro-to-langgraph/lessons/58239947-lesson-3-map-reduce)"
   ]
  },
  {
   "cell_type": "markdown",
   "id": "36737349-c949-4d64-9aa3-3767cbd02ad1",
   "metadata": {},
   "source": [
    "# Map-reduce\n",
    "\n",
    "## Review\n",
    "\n",
    "We're building up to a multi-agent research assistant that ties together all of the modules from this course.\n",
    "\n",
    "To build this multi-agent assistant, we've been introducing a few LangGraph controllability topics.\n",
    "\n",
    "We just covered parallelization and sub-graphs.\n",
    "\n",
    "## Goals\n",
    "\n",
    "Now, we're going to cover [map reduce](https://langchain-ai.github.io/langgraph/how-tos/map-reduce/)."
   ]
  },
  {
   "cell_type": "code",
   "execution_count": null,
   "id": "f24e95c8",
   "metadata": {},
   "outputs": [],
   "source": [
    "%%capture --no-stderr\n",
    "%pip install -U langchain_openai langgraph"
   ]
  },
  {
   "cell_type": "code",
   "execution_count": 1,
   "id": "ff57cbf7",
   "metadata": {},
   "outputs": [],
   "source": [
    "import os, getpass\n",
    "\n",
    "def _set_env(var: str):\n",
    "    if not os.environ.get(var):\n",
    "        os.environ[var] = getpass.getpass(f\"{var}: \")\n",
    "\n",
    "_set_env(\"OPENAI_API_KEY\")"
   ]
  },
  {
   "cell_type": "markdown",
   "id": "cbcd868a",
   "metadata": {},
   "source": [
    "We'll use [LangSmith](https://docs.smith.langchain.com/) for [tracing](https://docs.smith.langchain.com/concepts/tracing)."
   ]
  },
  {
   "cell_type": "code",
   "execution_count": 2,
   "id": "9fdc647f",
   "metadata": {},
   "outputs": [],
   "source": [
    "_set_env(\"LANGSMITH_API_KEY\")\n",
    "os.environ[\"LANGSMITH_TRACING\"] = \"true\"\n",
    "os.environ[\"LANGSMITH_PROJECT\"] = \"langchain-academy\""
   ]
  },
  {
   "cell_type": "markdown",
   "id": "2bbe9b9f-4375-4bca-8e32-7d57cb861469",
   "metadata": {},
   "source": [
    "## Problem\n",
    "\n",
    "Map-reduce operations are essential for efficient task decomposition and parallel processing. \n",
    "\n",
    "It has two phases:\n",
    "\n",
    "(1) `Map` - Break a task into smaller sub-tasks, processing each sub-task in parallel.\n",
    "\n",
    "(2) `Reduce` - Aggregate the results across all of the completed, parallelized sub-tasks.\n",
    "\n",
    "Let's design a system that will do two things:\n",
    "\n",
    "(1) `Map` - Create a set of jokes about a topic.\n",
    "\n",
    "(2) `Reduce` - Pick the best joke from the list.\n",
    "\n",
    "We'll use an LLM to do the job generation and selection."
   ]
  },
  {
   "cell_type": "code",
   "execution_count": 3,
   "id": "994cf903-1ed6-4ae2-b32a-7891a2808f81",
   "metadata": {},
   "outputs": [],
   "source": [
    "from langchain_openai import ChatOpenAI\n",
    "\n",
    "# Prompts we will use\n",
    "subjects_prompt = \"\"\"Generate a list of 3 specific study areas that are all related to this overall course topic: {topic}.\"\"\"\n",
    "study_tip_prompt = \"\"\"Generate a practical and effective study tip for Akshat about {subject}\"\"\"\n",
    "best_tip_prompt = \"\"\"Below are a bunch of study tips about {topic}. Select the most actionable and effective one! Return the ID of the best one, starting 0 as the ID for the first tip. Study tips: \\n\\n  {study_tips}\"\"\"\n",
    "\n",
    "# LLM\n",
    "model = ChatOpenAI(model=\"gpt-4o\", temperature=0)\n"
   ]
  },
  {
   "cell_type": "markdown",
   "id": "f3b883cc-3469-4e96-b1a4-deadf7bf3ce5",
   "metadata": {},
   "source": [
    "## State\n",
    "\n",
    "### Parallelizing joke generation\n",
    "\n",
    "First, let's define the entry point of the graph that will:\n",
    "\n",
    "* Take a user input topic\n",
    "* Produce a list of joke topics from it\n",
    "* Send each joke topic to our above joke generation node\n",
    "\n",
    "Our state has a `jokes` key, which will accumulate jokes from parallelized joke generation"
   ]
  },
  {
   "cell_type": "code",
   "execution_count": 4,
   "id": "099218ca-ee78-4291-95a1-87ee61382e3b",
   "metadata": {},
   "outputs": [],
   "source": [
    "import operator\n",
    "from typing import Annotated\n",
    "from typing_extensions import TypedDict\n",
    "from pydantic import BaseModel\n",
    "\n",
    "class Subjects(BaseModel):\n",
    "    subjects: list[str]\n",
    "\n",
    "class BestStudyTip(BaseModel):\n",
    "    id: int\n",
    "    \n",
    "class OverallState(TypedDict):\n",
    "    topic: str\n",
    "    subjects: list\n",
    "    study_tips: Annotated[list, operator.add]\n",
    "    best_selected_tip: str\n"
   ]
  },
  {
   "cell_type": "markdown",
   "id": "c7176d1c-4a88-4b0f-a960-ee04a45279bd",
   "metadata": {},
   "source": [
    "Generate subjects for jokes."
   ]
  },
  {
   "cell_type": "code",
   "execution_count": 5,
   "id": "45010efd-ad31-4daa-b77e-aaec79ef0309",
   "metadata": {},
   "outputs": [],
   "source": [
    "def generate_topics(state: OverallState):\n",
    "    prompt = subjects_prompt.format(topic=state[\"topic\"])\n",
    "    response = model.with_structured_output(Subjects).invoke(prompt)\n",
    "    return {\"subjects\": response.subjects}\n"
   ]
  },
  {
   "cell_type": "markdown",
   "id": "e5296bb0-c163-4e5c-8181-1e305b37442a",
   "metadata": {},
   "source": [
    "Here is the magic: we use the [Send](https://langchain-ai.github.io/langgraph/concepts/low_level/#send) to create a study tip for each subject.\n",
    "\n",
    "This is very useful! It can automatically parallelize study tip generation for any number of subjects.\n",
    "\n",
    "* `generate_study_tip`: the name of the node in the graph\n",
    "* `{\"subject\": s`}: the state to send\n",
    "\n",
    "`Send` allow you to pass any state that you want to `generate_study_tip`! It does not have to align with `OverallState`.\n",
    "\n",
    "In this case, `generate_study_tip` is using its own internal state, and we can populate this via `Send`.\n"
   ]
  },
  {
   "cell_type": "code",
   "execution_count": 6,
   "id": "bc83e575-11f6-41a9-990a-adb571bcda06",
   "metadata": {},
   "outputs": [],
   "source": [
    "from langgraph.types import Send\n",
    "def continue_to_study_tips(state: OverallState):\n",
    "    return [Send(\"generate_study_tip\", {\"subject\": s}) for s in state[\"subjects\"]]\n"
   ]
  },
  {
   "cell_type": "markdown",
   "id": "9847192d-d358-411e-90c0-f06be0738717",
   "metadata": {},
   "source": [
    "### Study tip generation (map)\n",
    "\n",
    "Now, we just define a node that will create our study tips, `generate_study_tip`!\n",
    "\n",
    "We write them back out to `study_tips` in `OverallState`! \n",
    "\n",
    "This key has a reducer that will combine lists.\n"
   ]
  },
  {
   "cell_type": "code",
   "execution_count": 7,
   "id": "bcddc567-73d3-4fb3-bfc5-1bea538f2aab",
   "metadata": {},
   "outputs": [],
   "source": [
    "class StudyTipState(TypedDict):\n",
    "    subject: str\n",
    "\n",
    "class StudyTip(BaseModel):\n",
    "    study_tip: str\n",
    "\n",
    "def generate_study_tip(state: StudyTipState):\n",
    "    prompt = study_tip_prompt.format(subject=state[\"subject\"])\n",
    "    response = model.with_structured_output(StudyTip).invoke(prompt)\n",
    "    return {\"study_tips\": [response.study_tip]}\n"
   ]
  },
  {
   "cell_type": "markdown",
   "id": "02960657-d174-4076-99a8-b3f9eea015f4",
   "metadata": {},
   "source": [
    "### Best study tip selection (reduce)\n",
    "\n",
    "Now, we add logic to pick the best study tip.\n"
   ]
  },
  {
   "cell_type": "code",
   "execution_count": 8,
   "id": "8d672870-75e3-4307-bda0-c41a86cbbaff",
   "metadata": {},
   "outputs": [],
   "source": [
    "def best_study_tip(state: OverallState):\n",
    "    study_tips = \"\\n\\n\".join(state[\"study_tips\"])\n",
    "    prompt = best_tip_prompt.format(topic=state[\"topic\"], study_tips=study_tips)\n",
    "    response = model.with_structured_output(BestStudyTip).invoke(prompt)\n",
    "    return {\"best_selected_tip\": state[\"study_tips\"][response.id]}\n"
   ]
  },
  {
   "cell_type": "markdown",
   "id": "837cd12e-5bff-426e-97f4-c774df998cfb",
   "metadata": {},
   "source": [
    "## Compile"
   ]
  },
  {
   "cell_type": "code",
   "execution_count": 9,
   "id": "2ae6be4b-144e-483c-88ad-ce86d6477a0d",
   "metadata": {},
   "outputs": [
    {
     "data": {
      "image/png": "[encoded data removed]",
      "text/plain": [
       "<IPython.core.display.Image object>"
      ]
     },
     "execution_count": 9,
     "metadata": {},
     "output_type": "execute_result"
    }
   ],
   "source": [
    "from IPython.display import Image\n",
    "from langgraph.graph import END, StateGraph, START\n",
    "\n",
    "# Construct the graph: here we put everything together to construct our graph\n",
    "graph = StateGraph(OverallState)\n",
    "graph.add_node(\"generate_topics\", generate_topics)\n",
    "graph.add_node(\"generate_study_tip\", generate_study_tip)\n",
    "graph.add_node(\"best_study_tip\", best_study_tip)\n",
    "graph.add_edge(START, \"generate_topics\")\n",
    "graph.add_conditional_edges(\"generate_topics\", continue_to_study_tips, [\"generate_study_tip\"])\n",
    "graph.add_edge(\"generate_study_tip\", \"best_study_tip\")\n",
    "graph.add_edge(\"best_study_tip\", END)\n",
    "\n",
    "# Compile the graph\n",
    "app = graph.compile()\n",
    "Image(app.get_graph().draw_mermaid_png())\n"
   ]
  },
  {
   "cell_type": "code",
   "execution_count": 10,
   "id": "e21dc7c9-0add-4125-be76-af701adb874a",
   "metadata": {},
   "outputs": [
    {
     "name": "stdout",
     "output_type": "stream",
     "text": [
      "{'generate_topics': {'subjects': ['Natural Language Processing in Multi-Agent Systems', 'Graph Theory Applications in Multi-Agent Communication', 'Distributed Artificial Intelligence and Coordination in Multi-Agent Systems']}}\n",
      "{'generate_study_tip': {'study_tips': [\"### Study Tip: Mastering Distributed AI and Multi-Agent Coordination\\n\\n**1. Break Down the Concepts:**\\n   - **Distributed AI:** Understand the basics of distributed systems, including how tasks are divided and processed across multiple agents.\\n   - **Multi-Agent Systems (MAS):** Learn about the architecture, communication protocols, and decision-making processes in MAS.\\n\\n**2. Use Real-World Analogies:**\\n   - Think of multi-agent systems like a team of robots working together to complete a task, each with its own role but needing to coordinate with others.\\n\\n**3. Leverage Visual Aids:**\\n   - Create diagrams to map out how agents interact and share information. Visualizing the flow of data and decision-making can clarify complex interactions.\\n\\n**4. Engage with Interactive Simulations:**\\n   - Use platforms like NetLogo or RoboCup to simulate multi-agent environments. This hands-on experience can deepen your understanding of agent coordination.\\n\\n**5. Study Key Algorithms and Protocols:**\\n   - Focus on algorithms like Contract Net Protocol, Auction-based methods, and Reinforcement Learning in MAS. Understand their applications and limitations.\\n\\n**6. Collaborate and Discuss:**\\n   - Join study groups or online forums to discuss challenges and solutions. Explaining concepts to peers can reinforce your understanding.\\n\\n**7. Apply Theoretical Knowledge Practically:**\\n   - Work on small projects or case studies that require implementing distributed AI solutions. This could be as simple as programming a set of agents to solve a puzzle collaboratively.\\n\\n**8. Stay Updated with Research:**\\n   - Follow journals and conferences like AAMAS (Autonomous Agents and Multi-Agent Systems) to keep abreast of the latest developments and breakthroughs.\\n\\n**9. Reflect and Iterate:**\\n   - After studying a topic, take time to reflect on what you've learned. Identify areas of confusion and revisit them. Iterative learning solidifies knowledge.\\n\\n**10. Balance Theory with Practice:**\\n   - While theoretical understanding is crucial, practical application through coding and simulations will provide a comprehensive grasp of the subject.\\n\\nBy integrating these strategies into your study routine, you'll develop a robust understanding of distributed AI and coordination in multi-agent systems, equipping you with the skills to tackle complex problems in this exciting field.\"]}}\n",
      "{'generate_study_tip': {'study_tips': [\"### Study Tip: Mastering Distributed AI and Multi-Agent Coordination\\n\\n**1. Break Down the Concepts:**\\n   - **Distributed AI:** Understand the basics of distributed systems, including how tasks are divided and processed across multiple agents.\\n   - **Multi-Agent Systems (MAS):** Learn about the architecture, communication protocols, and decision-making processes in MAS.\\n\\n**2. Use Real-World Analogies:**\\n   - Think of multi-agent systems like a team of robots working together to complete a task, each with its own role but needing to coordinate with others.\\n\\n**3. Leverage Visual Aids:**\\n   - Create diagrams to map out how agents interact and share information. Visualizing the flow of data and decision-making can clarify complex interactions.\\n\\n**4. Engage with Interactive Simulations:**\\n   - Use platforms like NetLogo or RoboCup to simulate multi-agent environments. This hands-on experience can deepen your understanding of agent coordination.\\n\\n**5. Study Key Algorithms and Protocols:**\\n   - Focus on algorithms like Contract Net Protocol, Auction-based methods, and Reinforcement Learning in MAS. Understand their applications and limitations.\\n\\n**6. Collaborate and Discuss:**\\n   - Join study groups or online forums to discuss challenges and solutions. Explaining concepts to peers can reinforce your understanding.\\n\\n**7. Apply Theoretical Knowledge Practically:**\\n   - Work on small projects or case studies that require implementing distributed AI solutions. This could be as simple as programming a set of agents to solve a puzzle collaboratively.\\n\\n**8. Stay Updated with Research:**\\n   - Follow journals and conferences like AAMAS (Autonomous Agents and Multi-Agent Systems) to keep abreast of the latest developments and breakthroughs.\\n\\n**9. Reflect and Iterate:**\\n   - After studying a topic, take time to reflect on what you've learned. Identify areas of confusion and revisit them. Iterative learning solidifies knowledge.\\n\\n**10. Balance Theory with Practice:**\\n   - While theoretical understanding is crucial, practical application through coding and simulations will provide a comprehensive grasp of the subject.\\n\\nBy integrating these strategies into your study routine, you'll develop a robust understanding of distributed AI and coordination in multi-agent systems, equipping you with the skills to tackle complex problems in this exciting field.\"]}}\n",
      "{'generate_study_tip': {'study_tips': ['### Study Tip: Visualize and Simulate Multi-Agent Interactions\\n\\n#### Objective:\\nTo enhance understanding of graph theory applications in multi-agent communication by visualizing and simulating interactions.\\n\\n#### Steps:\\n\\n1. **Understand the Basics:**\\n   - **Review Graph Theory Fundamentals:** Ensure you have a solid grasp of basic graph theory concepts such as nodes, edges, paths, cycles, and connectivity.\\n   - **Familiarize with Multi-Agent Systems (MAS):** Understand the principles of MAS, including agent autonomy, interaction, and collaboration.\\n\\n2. **Identify Key Graph Theory Concepts in MAS:**\\n   - **Network Topologies:** Study different network structures (e.g., star, mesh, ring) and their implications on communication.\\n   - **Graph Algorithms:** Focus on algorithms relevant to MAS, such as shortest path, spanning tree, and network flow.\\n\\n3. **Visualize Interactions:**\\n   - **Use Graph Visualization Tools:** Employ tools like Gephi, Graphviz, or NetworkX to create visual representations of agent networks.\\n   - **Map Real-World Scenarios:** Translate real-world multi-agent communication scenarios into graph models to see how agents interact.\\n\\n4. **Simulate Agent Communication:**\\n   - **Leverage Simulation Software:** Use platforms like NetLogo or AnyLogic to simulate agent interactions and observe communication patterns.\\n   - **Experiment with Parameters:** Adjust variables such as agent speed, communication range, and network density to see their effects on the system.\\n\\n5. **Analyze and Reflect:**\\n   - **Evaluate Communication Efficiency:** Assess how different graph structures and algorithms impact communication efficiency and robustness.\\n   - **Identify Bottlenecks:** Look for potential communication bottlenecks or vulnerabilities in the network.\\n\\n6. **Engage with the Community:**\\n   - **Join Online Forums and Groups:** Participate in discussions on platforms like Stack Exchange or Reddit to gain insights and share knowledge.\\n   - **Attend Workshops/Webinars:** Engage in events focused on graph theory and multi-agent systems to learn from experts and peers.\\n\\n7. **Document Your Findings:**\\n   - **Create a Study Journal:** Keep a record of your simulations, observations, and insights to track your learning progress.\\n   - **Develop Case Studies:** Write detailed case studies on specific applications of graph theory in multi-agent communication.\\n\\n#### Outcome:\\nBy visualizing and simulating multi-agent interactions, Akshat will gain a deeper understanding of how graph theory principles apply to real-world communication scenarios, enhancing both theoretical knowledge and practical skills.']}}\n",
      "{'generate_study_tip': {'study_tips': ['### Study Tip: Visualize and Simulate Multi-Agent Interactions\\n\\n#### Objective:\\nTo enhance understanding of graph theory applications in multi-agent communication by visualizing and simulating interactions.\\n\\n#### Steps:\\n\\n1. **Understand the Basics:**\\n   - **Review Graph Theory Fundamentals:** Ensure you have a solid grasp of basic graph theory concepts such as nodes, edges, paths, cycles, and connectivity.\\n   - **Familiarize with Multi-Agent Systems (MAS):** Understand the principles of MAS, including agent autonomy, interaction, and collaboration.\\n\\n2. **Identify Key Graph Theory Concepts in MAS:**\\n   - **Network Topologies:** Study different network structures (e.g., star, mesh, ring) and their implications on communication.\\n   - **Graph Algorithms:** Focus on algorithms relevant to MAS, such as shortest path, spanning tree, and network flow.\\n\\n3. **Visualize Interactions:**\\n   - **Use Graph Visualization Tools:** Employ tools like Gephi, Graphviz, or NetworkX to create visual representations of agent networks.\\n   - **Map Real-World Scenarios:** Translate real-world multi-agent communication scenarios into graph models to see how agents interact.\\n\\n4. **Simulate Agent Communication:**\\n   - **Leverage Simulation Software:** Use platforms like NetLogo or AnyLogic to simulate agent interactions and observe communication patterns.\\n   - **Experiment with Parameters:** Adjust variables such as agent speed, communication range, and network density to see their effects on the system.\\n\\n5. **Analyze and Reflect:**\\n   - **Evaluate Communication Efficiency:** Assess how different graph structures and algorithms impact communication efficiency and robustness.\\n   - **Identify Bottlenecks:** Look for potential communication bottlenecks or vulnerabilities in the network.\\n\\n6. **Engage with the Community:**\\n   - **Join Online Forums and Groups:** Participate in discussions on platforms like Stack Exchange or Reddit to gain insights and share knowledge.\\n   - **Attend Workshops/Webinars:** Engage in events focused on graph theory and multi-agent systems to learn from experts and peers.\\n\\n7. **Document Your Findings:**\\n   - **Create a Study Journal:** Keep a record of your simulations, observations, and insights to track your learning progress.\\n   - **Develop Case Studies:** Write detailed case studies on specific applications of graph theory in multi-agent communication.\\n\\n#### Outcome:\\nBy visualizing and simulating multi-agent interactions, Akshat will gain a deeper understanding of how graph theory principles apply to real-world communication scenarios, enhancing both theoretical knowledge and practical skills.']}}\n",
      "{'generate_study_tip': {'study_tips': ['### Study Tip: \"The Role of NLP in Multi-Agent Systems: A Hands-On Approach\"\\n\\n#### Objective:\\nTo effectively understand and apply Natural Language Processing (NLP) within Multi-Agent Systems (MAS), focusing on practical implementation and real-world applications.\\n\\n#### Step-by-Step Guide:\\n\\n1. **Foundation Building:**\\n   - **Understand the Basics:** Start with the fundamentals of NLP and MAS. Familiarize yourself with key concepts such as tokenization, parsing, sentiment analysis, and agent communication protocols.\\n   - **Recommended Resources:**\\n     - Books: \"Speech and Language Processing\" by Daniel Jurafsky and James H. Martin.\\n     - Online Courses: Coursera\\'s \"Natural Language Processing\" by Deeplearning.ai.\\n\\n2. **Explore Multi-Agent Systems:**\\n   - **Learn the Architecture:** Understand how agents interact, communicate, and collaborate within a system.\\n   - **Key Concepts:** Agent communication languages (ACL), negotiation, and coordination.\\n   - **Recommended Reading:** \"Multi-Agent Systems: Algorithmic, Game-Theoretic, and Logical Foundations\" by Yoav Shoham and Kevin Leyton-Brown.\\n\\n3. **Hands-On Practice:**\\n   - **Choose a Project:** Select a simple project that involves NLP in MAS, such as a chatbot system where multiple agents interact to provide customer support.\\n   - **Tools and Frameworks:**\\n     - Use Python libraries like NLTK, spaCy, or Hugging Face Transformers for NLP tasks.\\n     - Implement MAS using frameworks like JADE (Java Agent Development Framework) or Python-based SPADE.\\n\\n4. **Experiment and Iterate:**\\n   - **Prototype Development:** Start with a basic prototype and gradually add complexity. For instance, begin with simple text processing and evolve to more complex tasks like sentiment analysis or language translation.\\n   - **Test and Refine:** Continuously test your system, gather feedback, and refine your approach. Use real-world data to simulate agent interactions.\\n\\n5. **Engage with the Community:**\\n   - **Join Forums and Groups:** Participate in online forums, such as Stack Overflow or Reddit, to discuss challenges and solutions with peers.\\n   - **Attend Workshops and Conferences:** Engage in events focused on NLP and MAS to stay updated on the latest trends and technologies.\\n\\n6. **Reflect and Document:**\\n   - **Keep a Learning Journal:** Document your learning journey, challenges faced, and solutions found. This will help consolidate your knowledge and serve as a reference for future projects.\\n\\n#### Outcome:\\nBy following this structured approach, Akshat will gain a comprehensive understanding of how NLP can be effectively integrated into Multi-Agent Systems, enhancing both theoretical knowledge and practical skills.']}}\n",
      "{'generate_study_tip': {'study_tips': ['### Study Tip: \"The Role of NLP in Multi-Agent Systems: A Hands-On Approach\"\\n\\n#### Objective:\\nTo effectively understand and apply Natural Language Processing (NLP) within Multi-Agent Systems (MAS), focusing on practical implementation and real-world applications.\\n\\n#### Step-by-Step Guide:\\n\\n1. **Foundation Building:**\\n   - **Understand the Basics:** Start with the fundamentals of NLP and MAS. Familiarize yourself with key concepts such as tokenization, parsing, sentiment analysis, and agent communication protocols.\\n   - **Recommended Resources:**\\n     - Books: \"Speech and Language Processing\" by Daniel Jurafsky and James H. Martin.\\n     - Online Courses: Coursera\\'s \"Natural Language Processing\" by Deeplearning.ai.\\n\\n2. **Explore Multi-Agent Systems:**\\n   - **Learn the Architecture:** Understand how agents interact, communicate, and collaborate within a system.\\n   - **Key Concepts:** Agent communication languages (ACL), negotiation, and coordination.\\n   - **Recommended Reading:** \"Multi-Agent Systems: Algorithmic, Game-Theoretic, and Logical Foundations\" by Yoav Shoham and Kevin Leyton-Brown.\\n\\n3. **Hands-On Practice:**\\n   - **Choose a Project:** Select a simple project that involves NLP in MAS, such as a chatbot system where multiple agents interact to provide customer support.\\n   - **Tools and Frameworks:**\\n     - Use Python libraries like NLTK, spaCy, or Hugging Face Transformers for NLP tasks.\\n     - Implement MAS using frameworks like JADE (Java Agent Development Framework) or Python-based SPADE.\\n\\n4. **Experiment and Iterate:**\\n   - **Prototype Development:** Start with a basic prototype and gradually add complexity. For instance, begin with simple text processing and evolve to more complex tasks like sentiment analysis or language translation.\\n   - **Test and Refine:** Continuously test your system, gather feedback, and refine your approach. Use real-world data to simulate agent interactions.\\n\\n5. **Engage with the Community:**\\n   - **Join Forums and Groups:** Participate in online forums, such as Stack Overflow or Reddit, to discuss challenges and solutions with peers.\\n   - **Attend Workshops and Conferences:** Engage in events focused on NLP and MAS to stay updated on the latest trends and technologies.\\n\\n6. **Reflect and Document:**\\n   - **Keep a Learning Journal:** Document your learning journey, challenges faced, and solutions found. This will help consolidate your knowledge and serve as a reference for future projects.\\n\\n#### Outcome:\\nBy following this structured approach, Akshat will gain a comprehensive understanding of how NLP can be effectively integrated into Multi-Agent Systems, enhancing both theoretical knowledge and practical skills.']}}\n",
      "{'best_study_tip': {'best_selected_tip': '### Study Tip: \"The Role of NLP in Multi-Agent Systems: A Hands-On Approach\"\\n\\n#### Objective:\\nTo effectively understand and apply Natural Language Processing (NLP) within Multi-Agent Systems (MAS), focusing on practical implementation and real-world applications.\\n\\n#### Step-by-Step Guide:\\n\\n1. **Foundation Building:**\\n   - **Understand the Basics:** Start with the fundamentals of NLP and MAS. Familiarize yourself with key concepts such as tokenization, parsing, sentiment analysis, and agent communication protocols.\\n   - **Recommended Resources:**\\n     - Books: \"Speech and Language Processing\" by Daniel Jurafsky and James H. Martin.\\n     - Online Courses: Coursera\\'s \"Natural Language Processing\" by Deeplearning.ai.\\n\\n2. **Explore Multi-Agent Systems:**\\n   - **Learn the Architecture:** Understand how agents interact, communicate, and collaborate within a system.\\n   - **Key Concepts:** Agent communication languages (ACL), negotiation, and coordination.\\n   - **Recommended Reading:** \"Multi-Agent Systems: Algorithmic, Game-Theoretic, and Logical Foundations\" by Yoav Shoham and Kevin Leyton-Brown.\\n\\n3. **Hands-On Practice:**\\n   - **Choose a Project:** Select a simple project that involves NLP in MAS, such as a chatbot system where multiple agents interact to provide customer support.\\n   - **Tools and Frameworks:**\\n     - Use Python libraries like NLTK, spaCy, or Hugging Face Transformers for NLP tasks.\\n     - Implement MAS using frameworks like JADE (Java Agent Development Framework) or Python-based SPADE.\\n\\n4. **Experiment and Iterate:**\\n   - **Prototype Development:** Start with a basic prototype and gradually add complexity. For instance, begin with simple text processing and evolve to more complex tasks like sentiment analysis or language translation.\\n   - **Test and Refine:** Continuously test your system, gather feedback, and refine your approach. Use real-world data to simulate agent interactions.\\n\\n5. **Engage with the Community:**\\n   - **Join Forums and Groups:** Participate in online forums, such as Stack Overflow or Reddit, to discuss challenges and solutions with peers.\\n   - **Attend Workshops and Conferences:** Engage in events focused on NLP and MAS to stay updated on the latest trends and technologies.\\n\\n6. **Reflect and Document:**\\n   - **Keep a Learning Journal:** Document your learning journey, challenges faced, and solutions found. This will help consolidate your knowledge and serve as a reference for future projects.\\n\\n#### Outcome:\\nBy following this structured approach, Akshat will gain a comprehensive understanding of how NLP can be effectively integrated into Multi-Agent Systems, enhancing both theoretical knowledge and practical skills.'}}\n",
      "{'best_study_tip': {'best_selected_tip': '### Study Tip: \"The Role of NLP in Multi-Agent Systems: A Hands-On Approach\"\\n\\n#### Objective:\\nTo effectively understand and apply Natural Language Processing (NLP) within Multi-Agent Systems (MAS), focusing on practical implementation and real-world applications.\\n\\n#### Step-by-Step Guide:\\n\\n1. **Foundation Building:**\\n   - **Understand the Basics:** Start with the fundamentals of NLP and MAS. Familiarize yourself with key concepts such as tokenization, parsing, sentiment analysis, and agent communication protocols.\\n   - **Recommended Resources:**\\n     - Books: \"Speech and Language Processing\" by Daniel Jurafsky and James H. Martin.\\n     - Online Courses: Coursera\\'s \"Natural Language Processing\" by Deeplearning.ai.\\n\\n2. **Explore Multi-Agent Systems:**\\n   - **Learn the Architecture:** Understand how agents interact, communicate, and collaborate within a system.\\n   - **Key Concepts:** Agent communication languages (ACL), negotiation, and coordination.\\n   - **Recommended Reading:** \"Multi-Agent Systems: Algorithmic, Game-Theoretic, and Logical Foundations\" by Yoav Shoham and Kevin Leyton-Brown.\\n\\n3. **Hands-On Practice:**\\n   - **Choose a Project:** Select a simple project that involves NLP in MAS, such as a chatbot system where multiple agents interact to provide customer support.\\n   - **Tools and Frameworks:**\\n     - Use Python libraries like NLTK, spaCy, or Hugging Face Transformers for NLP tasks.\\n     - Implement MAS using frameworks like JADE (Java Agent Development Framework) or Python-based SPADE.\\n\\n4. **Experiment and Iterate:**\\n   - **Prototype Development:** Start with a basic prototype and gradually add complexity. For instance, begin with simple text processing and evolve to more complex tasks like sentiment analysis or language translation.\\n   - **Test and Refine:** Continuously test your system, gather feedback, and refine your approach. Use real-world data to simulate agent interactions.\\n\\n5. **Engage with the Community:**\\n   - **Join Forums and Groups:** Participate in online forums, such as Stack Overflow or Reddit, to discuss challenges and solutions with peers.\\n   - **Attend Workshops and Conferences:** Engage in events focused on NLP and MAS to stay updated on the latest trends and technologies.\\n\\n6. **Reflect and Document:**\\n   - **Keep a Learning Journal:** Document your learning journey, challenges faced, and solutions found. This will help consolidate your knowledge and serve as a reference for future projects.\\n\\n#### Outcome:\\nBy following this structured approach, Akshat will gain a comprehensive understanding of how NLP can be effectively integrated into Multi-Agent Systems, enhancing both theoretical knowledge and practical skills.'}}\n"
     ]
    }
   ],
   "source": [
    "# Call the graph: here we call it to generate a list of study tips\n",
    "for s in app.stream({\"topic\": \"LangGraph and Multi-Agent Systems\"}):\n",
    "    print(s)\n"
   ]
  },
  {
   "attachments": {},
   "cell_type": "markdown",
   "id": "2a96517e-77ab-46e2-95e2-79168c044e9c",
   "metadata": {},
   "source": [
    "## Studio\n",
    "\n",
    "**⚠️ DISCLAIMER**\n",
    "\n",
    "Since the filming of these videos, we've updated Studio so that it can be run locally and opened in your browser. This is now the preferred way to run Studio (rather than using the Desktop App as shown in the video). See documentation [here](https://langchain-ai.github.io/langgraph/concepts/langgraph_studio/#local-development-server) on the local development server and [here](https://langchain-ai.github.io/langgraph/how-tos/local-studio/#run-the-development-server). To start the local development server, run the following command in your terminal in the `/studio` directory in this module:\n",
    "\n",
    "```\n",
    "langgraph dev\n",
    "```\n",
    "\n",
    "You should see the following output:\n",
    "```\n",
    "- 🚀 API: http://127.0.0.1:2024\n",
    "- 🎨 Studio UI: https://smith.langchain.com/studio/?baseUrl=http://127.0.0.1:2024\n",
    "- 📚 API Docs: http://127.0.0.1:2024/docs\n",
    "```\n",
    "\n",
    "Open your browser and navigate to the Studio UI: `https://smith.langchain.com/studio/?baseUrl=http://127.0.0.1:2024`.\n",
    "\n",
    "Let's load our the above graph in the Studio UI, which uses `module-4/studio/map_reduce.py` set in `module-4/studio/langgraph.json`."
   ]
  },
  {
   "cell_type": "code",
   "execution_count": null,
   "id": "741a5e45-9a4c-43b4-8393-9298b3dcda53",
   "metadata": {},
   "outputs": [],
   "source": []
  }
 ],
 "metadata": {
  "kernelspec": {
   "display_name": "Python 3",
   "language": "python",
   "name": "python3"
  },
  "language_info": {
   "codemirror_mode": {
    "name": "ipython",
    "version": 3
   },
   "file_extension": ".py",
   "mimetype": "text/x-python",
   "name": "python",
   "nbconvert_exporter": "python",
   "pygments_lexer": "ipython3",
   "version": "3.12.6"
  }
 },
 "nbformat": 4,
 "nbformat_minor": 5
}
